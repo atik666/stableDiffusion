{
 "cells": [
  {
   "cell_type": "code",
   "execution_count": 1,
   "metadata": {},
   "outputs": [
    {
     "name": "stderr",
     "output_type": "stream",
     "text": [
      "/opt/conda/envs/torch/lib/python3.11/site-packages/tqdm/auto.py:21: TqdmWarning: IProgress not found. Please update jupyter and ipywidgets. See https://ipywidgets.readthedocs.io/en/stable/user_install.html\n",
      "  from .autonotebook import tqdm as notebook_tqdm\n"
     ]
    },
    {
     "name": "stdout",
     "output_type": "stream",
     "text": [
      "Using device: cuda\n"
     ]
    },
    {
     "ename": "RuntimeError",
     "evalue": "Error(s) in loading state_dict for Diffusion:\n\tMissing key(s) in state_dict: \"unet.encoders.1.1.layer_norm_1.weight\", \"unet.encoders.1.1.layer_norm_1.bias\", \"unet.encoders.1.1.layer_norm_2.weight\", \"unet.encoders.1.1.layer_norm_2.bias\", \"unet.encoders.1.1.layer_norm_3.weight\", \"unet.encoders.1.1.layer_norm_3.bias\", \"unet.encoders.2.1.layer_norm_1.weight\", \"unet.encoders.2.1.layer_norm_1.bias\", \"unet.encoders.2.1.layer_norm_2.weight\", \"unet.encoders.2.1.layer_norm_2.bias\", \"unet.encoders.2.1.layer_norm_3.weight\", \"unet.encoders.2.1.layer_norm_3.bias\", \"unet.encoders.4.1.layer_norm_1.weight\", \"unet.encoders.4.1.layer_norm_1.bias\", \"unet.encoders.4.1.layer_norm_2.weight\", \"unet.encoders.4.1.layer_norm_2.bias\", \"unet.encoders.4.1.layer_norm_3.weight\", \"unet.encoders.4.1.layer_norm_3.bias\", \"unet.encoders.5.1.layer_norm_1.weight\", \"unet.encoders.5.1.layer_norm_1.bias\", \"unet.encoders.5.1.layer_norm_2.weight\", \"unet.encoders.5.1.layer_norm_2.bias\", \"unet.encoders.5.1.layer_norm_3.weight\", \"unet.encoders.5.1.layer_norm_3.bias\", \"unet.encoders.7.1.layer_norm_1.weight\", \"unet.encoders.7.1.layer_norm_1.bias\", \"unet.encoders.7.1.layer_norm_2.weight\", \"unet.encoders.7.1.layer_norm_2.bias\", \"unet.encoders.7.1.layer_norm_3.weight\", \"unet.encoders.7.1.layer_norm_3.bias\", \"unet.encoders.8.1.layer_norm_1.weight\", \"unet.encoders.8.1.layer_norm_1.bias\", \"unet.encoders.8.1.layer_norm_2.weight\", \"unet.encoders.8.1.layer_norm_2.bias\", \"unet.encoders.8.1.layer_norm_3.weight\", \"unet.encoders.8.1.layer_norm_3.bias\", \"unet.bottleneck.1.layer_norm_1.weight\", \"unet.bottleneck.1.layer_norm_1.bias\", \"unet.bottleneck.1.layer_norm_2.weight\", \"unet.bottleneck.1.layer_norm_2.bias\", \"unet.bottleneck.1.layer_norm_3.weight\", \"unet.bottleneck.1.layer_norm_3.bias\", \"unet.decoders.3.1.layer_norm_1.weight\", \"unet.decoders.3.1.layer_norm_1.bias\", \"unet.decoders.3.1.layer_norm_2.weight\", \"unet.decoders.3.1.layer_norm_2.bias\", \"unet.decoders.3.1.layer_norm_3.weight\", \"unet.decoders.3.1.layer_norm_3.bias\", \"unet.decoders.4.1.layer_norm_1.weight\", \"unet.decoders.4.1.layer_norm_1.bias\", \"unet.decoders.4.1.layer_norm_2.weight\", \"unet.decoders.4.1.layer_norm_2.bias\", \"unet.decoders.4.1.layer_norm_3.weight\", \"unet.decoders.4.1.layer_norm_3.bias\", \"unet.decoders.5.1.layer_norm_1.weight\", \"unet.decoders.5.1.layer_norm_1.bias\", \"unet.decoders.5.1.layer_norm_2.weight\", \"unet.decoders.5.1.layer_norm_2.bias\", \"unet.decoders.5.1.layer_norm_3.weight\", \"unet.decoders.5.1.layer_norm_3.bias\", \"unet.decoders.6.1.layer_norm_1.weight\", \"unet.decoders.6.1.layer_norm_1.bias\", \"unet.decoders.6.1.layer_norm_2.weight\", \"unet.decoders.6.1.layer_norm_2.bias\", \"unet.decoders.6.1.layer_norm_3.weight\", \"unet.decoders.6.1.layer_norm_3.bias\", \"unet.decoders.7.1.layer_norm_1.weight\", \"unet.decoders.7.1.layer_norm_1.bias\", \"unet.decoders.7.1.layer_norm_2.weight\", \"unet.decoders.7.1.layer_norm_2.bias\", \"unet.decoders.7.1.layer_norm_3.weight\", \"unet.decoders.7.1.layer_norm_3.bias\", \"unet.decoders.8.1.layer_norm_1.weight\", \"unet.decoders.8.1.layer_norm_1.bias\", \"unet.decoders.8.1.layer_norm_2.weight\", \"unet.decoders.8.1.layer_norm_2.bias\", \"unet.decoders.8.1.layer_norm_3.weight\", \"unet.decoders.8.1.layer_norm_3.bias\", \"unet.decoders.9.1.layer_norm_1.weight\", \"unet.decoders.9.1.layer_norm_1.bias\", \"unet.decoders.9.1.layer_norm_2.weight\", \"unet.decoders.9.1.layer_norm_2.bias\", \"unet.decoders.9.1.layer_norm_3.weight\", \"unet.decoders.9.1.layer_norm_3.bias\", \"unet.decoders.10.1.layer_norm_1.weight\", \"unet.decoders.10.1.layer_norm_1.bias\", \"unet.decoders.10.1.layer_norm_2.weight\", \"unet.decoders.10.1.layer_norm_2.bias\", \"unet.decoders.10.1.layer_norm_3.weight\", \"unet.decoders.10.1.layer_norm_3.bias\", \"unet.decoders.11.1.layer_norm_1.weight\", \"unet.decoders.11.1.layer_norm_1.bias\", \"unet.decoders.11.1.layer_norm_2.weight\", \"unet.decoders.11.1.layer_norm_2.bias\", \"unet.decoders.11.1.layer_norm_3.weight\", \"unet.decoders.11.1.layer_norm_3.bias\". \n\tUnexpected key(s) in state_dict: \"unet.encoders.1.1.layernorm_1.weight\", \"unet.encoders.1.1.layernorm_1.bias\", \"unet.encoders.1.1.layernorm_2.weight\", \"unet.encoders.1.1.layernorm_2.bias\", \"unet.encoders.1.1.layernorm_3.weight\", \"unet.encoders.1.1.layernorm_3.bias\", \"unet.encoders.2.1.layernorm_1.weight\", \"unet.encoders.2.1.layernorm_1.bias\", \"unet.encoders.2.1.layernorm_2.weight\", \"unet.encoders.2.1.layernorm_2.bias\", \"unet.encoders.2.1.layernorm_3.weight\", \"unet.encoders.2.1.layernorm_3.bias\", \"unet.encoders.4.1.layernorm_1.weight\", \"unet.encoders.4.1.layernorm_1.bias\", \"unet.encoders.4.1.layernorm_2.weight\", \"unet.encoders.4.1.layernorm_2.bias\", \"unet.encoders.4.1.layernorm_3.weight\", \"unet.encoders.4.1.layernorm_3.bias\", \"unet.encoders.5.1.layernorm_1.weight\", \"unet.encoders.5.1.layernorm_1.bias\", \"unet.encoders.5.1.layernorm_2.weight\", \"unet.encoders.5.1.layernorm_2.bias\", \"unet.encoders.5.1.layernorm_3.weight\", \"unet.encoders.5.1.layernorm_3.bias\", \"unet.encoders.7.1.layernorm_1.weight\", \"unet.encoders.7.1.layernorm_1.bias\", \"unet.encoders.7.1.layernorm_2.weight\", \"unet.encoders.7.1.layernorm_2.bias\", \"unet.encoders.7.1.layernorm_3.weight\", \"unet.encoders.7.1.layernorm_3.bias\", \"unet.encoders.8.1.layernorm_1.weight\", \"unet.encoders.8.1.layernorm_1.bias\", \"unet.encoders.8.1.layernorm_2.weight\", \"unet.encoders.8.1.layernorm_2.bias\", \"unet.encoders.8.1.layernorm_3.weight\", \"unet.encoders.8.1.layernorm_3.bias\", \"unet.bottleneck.1.layernorm_1.weight\", \"unet.bottleneck.1.layernorm_1.bias\", \"unet.bottleneck.1.layernorm_2.weight\", \"unet.bottleneck.1.layernorm_2.bias\", \"unet.bottleneck.1.layernorm_3.weight\", \"unet.bottleneck.1.layernorm_3.bias\", \"unet.decoders.3.1.layernorm_1.weight\", \"unet.decoders.3.1.layernorm_1.bias\", \"unet.decoders.3.1.layernorm_2.weight\", \"unet.decoders.3.1.layernorm_2.bias\", \"unet.decoders.3.1.layernorm_3.weight\", \"unet.decoders.3.1.layernorm_3.bias\", \"unet.decoders.4.1.layernorm_1.weight\", \"unet.decoders.4.1.layernorm_1.bias\", \"unet.decoders.4.1.layernorm_2.weight\", \"unet.decoders.4.1.layernorm_2.bias\", \"unet.decoders.4.1.layernorm_3.weight\", \"unet.decoders.4.1.layernorm_3.bias\", \"unet.decoders.5.1.layernorm_1.weight\", \"unet.decoders.5.1.layernorm_1.bias\", \"unet.decoders.5.1.layernorm_2.weight\", \"unet.decoders.5.1.layernorm_2.bias\", \"unet.decoders.5.1.layernorm_3.weight\", \"unet.decoders.5.1.layernorm_3.bias\", \"unet.decoders.6.1.layernorm_1.weight\", \"unet.decoders.6.1.layernorm_1.bias\", \"unet.decoders.6.1.layernorm_2.weight\", \"unet.decoders.6.1.layernorm_2.bias\", \"unet.decoders.6.1.layernorm_3.weight\", \"unet.decoders.6.1.layernorm_3.bias\", \"unet.decoders.7.1.layernorm_1.weight\", \"unet.decoders.7.1.layernorm_1.bias\", \"unet.decoders.7.1.layernorm_2.weight\", \"unet.decoders.7.1.layernorm_2.bias\", \"unet.decoders.7.1.layernorm_3.weight\", \"unet.decoders.7.1.layernorm_3.bias\", \"unet.decoders.8.1.layernorm_1.weight\", \"unet.decoders.8.1.layernorm_1.bias\", \"unet.decoders.8.1.layernorm_2.weight\", \"unet.decoders.8.1.layernorm_2.bias\", \"unet.decoders.8.1.layernorm_3.weight\", \"unet.decoders.8.1.layernorm_3.bias\", \"unet.decoders.9.1.layernorm_1.weight\", \"unet.decoders.9.1.layernorm_1.bias\", \"unet.decoders.9.1.layernorm_2.weight\", \"unet.decoders.9.1.layernorm_2.bias\", \"unet.decoders.9.1.layernorm_3.weight\", \"unet.decoders.9.1.layernorm_3.bias\", \"unet.decoders.10.1.layernorm_1.weight\", \"unet.decoders.10.1.layernorm_1.bias\", \"unet.decoders.10.1.layernorm_2.weight\", \"unet.decoders.10.1.layernorm_2.bias\", \"unet.decoders.10.1.layernorm_3.weight\", \"unet.decoders.10.1.layernorm_3.bias\", \"unet.decoders.11.1.layernorm_1.weight\", \"unet.decoders.11.1.layernorm_1.bias\", \"unet.decoders.11.1.layernorm_2.weight\", \"unet.decoders.11.1.layernorm_2.bias\", \"unet.decoders.11.1.layernorm_3.weight\", \"unet.decoders.11.1.layernorm_3.bias\". ",
     "output_type": "error",
     "traceback": [
      "\u001b[0;31m---------------------------------------------------------------------------\u001b[0m",
      "\u001b[0;31mRuntimeError\u001b[0m                              Traceback (most recent call last)",
      "\u001b[1;32m/home/atik_faysal/stable_diffusion/sd/demo.ipynb Cell 1\u001b[0m line \u001b[0;36m2\n\u001b[1;32m     <a href='vscode-notebook-cell://ssh-remote%2B34.171.92.47/home/atik_faysal/stable_diffusion/sd/demo.ipynb#W1sdnNjb2RlLXJlbW90ZQ%3D%3D?line=20'>21</a>\u001b[0m tokenizer \u001b[39m=\u001b[39m CLIPTokenizer(\u001b[39m\"\u001b[39m\u001b[39m../data/vocab.json\u001b[39m\u001b[39m\"\u001b[39m, merges_file\u001b[39m=\u001b[39m\u001b[39m\"\u001b[39m\u001b[39m../data/merges.txt\u001b[39m\u001b[39m\"\u001b[39m)\n\u001b[1;32m     <a href='vscode-notebook-cell://ssh-remote%2B34.171.92.47/home/atik_faysal/stable_diffusion/sd/demo.ipynb#W1sdnNjb2RlLXJlbW90ZQ%3D%3D?line=21'>22</a>\u001b[0m model_file \u001b[39m=\u001b[39m \u001b[39m\"\u001b[39m\u001b[39m../data/v1-5-pruned-emaonly.ckpt\u001b[39m\u001b[39m\"\u001b[39m\n\u001b[0;32m---> <a href='vscode-notebook-cell://ssh-remote%2B34.171.92.47/home/atik_faysal/stable_diffusion/sd/demo.ipynb#W1sdnNjb2RlLXJlbW90ZQ%3D%3D?line=22'>23</a>\u001b[0m models \u001b[39m=\u001b[39m model_loader\u001b[39m.\u001b[39;49mpreload_models_from_standard_weights(model_file, device\u001b[39m=\u001b[39;49mDEVICE)\n\u001b[1;32m     <a href='vscode-notebook-cell://ssh-remote%2B34.171.92.47/home/atik_faysal/stable_diffusion/sd/demo.ipynb#W1sdnNjb2RlLXJlbW90ZQ%3D%3D?line=24'>25</a>\u001b[0m \u001b[39m# Text to Image\u001b[39;00m\n\u001b[1;32m     <a href='vscode-notebook-cell://ssh-remote%2B34.171.92.47/home/atik_faysal/stable_diffusion/sd/demo.ipynb#W1sdnNjb2RlLXJlbW90ZQ%3D%3D?line=26'>27</a>\u001b[0m prompt \u001b[39m=\u001b[39m \u001b[39m\"\u001b[39m\u001b[39mA cat stretches on the floor, highly detailed, ultra sharp, cinematic, 8k resolution.\u001b[39m\u001b[39m\"\u001b[39m\n",
      "File \u001b[0;32m~/stable_diffusion/sd/model_loader.py:17\u001b[0m, in \u001b[0;36mpreload_models_from_standard_weights\u001b[0;34m(ckpt_path, device)\u001b[0m\n\u001b[1;32m     14\u001b[0m decoder\u001b[39m.\u001b[39mload_state_dict(state_dict[\u001b[39m'\u001b[39m\u001b[39mdecoder\u001b[39m\u001b[39m'\u001b[39m], strict\u001b[39m=\u001b[39m\u001b[39mTrue\u001b[39;00m)\n\u001b[1;32m     16\u001b[0m diffusion \u001b[39m=\u001b[39m Diffusion()\u001b[39m.\u001b[39mto(device)\n\u001b[0;32m---> 17\u001b[0m diffusion\u001b[39m.\u001b[39;49mload_state_dict(state_dict[\u001b[39m'\u001b[39;49m\u001b[39mdiffusion\u001b[39;49m\u001b[39m'\u001b[39;49m], strict\u001b[39m=\u001b[39;49m\u001b[39mTrue\u001b[39;49;00m)\n\u001b[1;32m     19\u001b[0m clip \u001b[39m=\u001b[39m CLIP()\u001b[39m.\u001b[39mto(device)\n\u001b[1;32m     20\u001b[0m clip\u001b[39m.\u001b[39mload_state_dict(state_dict[\u001b[39m'\u001b[39m\u001b[39mclip\u001b[39m\u001b[39m'\u001b[39m], strict\u001b[39m=\u001b[39m\u001b[39mTrue\u001b[39;00m)\n",
      "File \u001b[0;32m/opt/conda/envs/torch/lib/python3.11/site-packages/torch/nn/modules/module.py:2041\u001b[0m, in \u001b[0;36mModule.load_state_dict\u001b[0;34m(self, state_dict, strict)\u001b[0m\n\u001b[1;32m   2036\u001b[0m         error_msgs\u001b[39m.\u001b[39minsert(\n\u001b[1;32m   2037\u001b[0m             \u001b[39m0\u001b[39m, \u001b[39m'\u001b[39m\u001b[39mMissing key(s) in state_dict: \u001b[39m\u001b[39m{}\u001b[39;00m\u001b[39m. \u001b[39m\u001b[39m'\u001b[39m\u001b[39m.\u001b[39mformat(\n\u001b[1;32m   2038\u001b[0m                 \u001b[39m'\u001b[39m\u001b[39m, \u001b[39m\u001b[39m'\u001b[39m\u001b[39m.\u001b[39mjoin(\u001b[39m'\u001b[39m\u001b[39m\"\u001b[39m\u001b[39m{}\u001b[39;00m\u001b[39m\"\u001b[39m\u001b[39m'\u001b[39m\u001b[39m.\u001b[39mformat(k) \u001b[39mfor\u001b[39;00m k \u001b[39min\u001b[39;00m missing_keys)))\n\u001b[1;32m   2040\u001b[0m \u001b[39mif\u001b[39;00m \u001b[39mlen\u001b[39m(error_msgs) \u001b[39m>\u001b[39m \u001b[39m0\u001b[39m:\n\u001b[0;32m-> 2041\u001b[0m     \u001b[39mraise\u001b[39;00m \u001b[39mRuntimeError\u001b[39;00m(\u001b[39m'\u001b[39m\u001b[39mError(s) in loading state_dict for \u001b[39m\u001b[39m{}\u001b[39;00m\u001b[39m:\u001b[39m\u001b[39m\\n\u001b[39;00m\u001b[39m\\t\u001b[39;00m\u001b[39m{}\u001b[39;00m\u001b[39m'\u001b[39m\u001b[39m.\u001b[39mformat(\n\u001b[1;32m   2042\u001b[0m                        \u001b[39mself\u001b[39m\u001b[39m.\u001b[39m\u001b[39m__class__\u001b[39m\u001b[39m.\u001b[39m\u001b[39m__name__\u001b[39m, \u001b[39m\"\u001b[39m\u001b[39m\\n\u001b[39;00m\u001b[39m\\t\u001b[39;00m\u001b[39m\"\u001b[39m\u001b[39m.\u001b[39mjoin(error_msgs)))\n\u001b[1;32m   2043\u001b[0m \u001b[39mreturn\u001b[39;00m _IncompatibleKeys(missing_keys, unexpected_keys)\n",
      "\u001b[0;31mRuntimeError\u001b[0m: Error(s) in loading state_dict for Diffusion:\n\tMissing key(s) in state_dict: \"unet.encoders.1.1.layer_norm_1.weight\", \"unet.encoders.1.1.layer_norm_1.bias\", \"unet.encoders.1.1.layer_norm_2.weight\", \"unet.encoders.1.1.layer_norm_2.bias\", \"unet.encoders.1.1.layer_norm_3.weight\", \"unet.encoders.1.1.layer_norm_3.bias\", \"unet.encoders.2.1.layer_norm_1.weight\", \"unet.encoders.2.1.layer_norm_1.bias\", \"unet.encoders.2.1.layer_norm_2.weight\", \"unet.encoders.2.1.layer_norm_2.bias\", \"unet.encoders.2.1.layer_norm_3.weight\", \"unet.encoders.2.1.layer_norm_3.bias\", \"unet.encoders.4.1.layer_norm_1.weight\", \"unet.encoders.4.1.layer_norm_1.bias\", \"unet.encoders.4.1.layer_norm_2.weight\", \"unet.encoders.4.1.layer_norm_2.bias\", \"unet.encoders.4.1.layer_norm_3.weight\", \"unet.encoders.4.1.layer_norm_3.bias\", \"unet.encoders.5.1.layer_norm_1.weight\", \"unet.encoders.5.1.layer_norm_1.bias\", \"unet.encoders.5.1.layer_norm_2.weight\", \"unet.encoders.5.1.layer_norm_2.bias\", \"unet.encoders.5.1.layer_norm_3.weight\", \"unet.encoders.5.1.layer_norm_3.bias\", \"unet.encoders.7.1.layer_norm_1.weight\", \"unet.encoders.7.1.layer_norm_1.bias\", \"unet.encoders.7.1.layer_norm_2.weight\", \"unet.encoders.7.1.layer_norm_2.bias\", \"unet.encoders.7.1.layer_norm_3.weight\", \"unet.encoders.7.1.layer_norm_3.bias\", \"unet.encoders.8.1.layer_norm_1.weight\", \"unet.encoders.8.1.layer_norm_1.bias\", \"unet.encoders.8.1.layer_norm_2.weight\", \"unet.encoders.8.1.layer_norm_2.bias\", \"unet.encoders.8.1.layer_norm_3.weight\", \"unet.encoders.8.1.layer_norm_3.bias\", \"unet.bottleneck.1.layer_norm_1.weight\", \"unet.bottleneck.1.layer_norm_1.bias\", \"unet.bottleneck.1.layer_norm_2.weight\", \"unet.bottleneck.1.layer_norm_2.bias\", \"unet.bottleneck.1.layer_norm_3.weight\", \"unet.bottleneck.1.layer_norm_3.bias\", \"unet.decoders.3.1.layer_norm_1.weight\", \"unet.decoders.3.1.layer_norm_1.bias\", \"unet.decoders.3.1.layer_norm_2.weight\", \"unet.decoders.3.1.layer_norm_2.bias\", \"unet.decoders.3.1.layer_norm_3.weight\", \"unet.decoders.3.1.layer_norm_3.bias\", \"unet.decoders.4.1.layer_norm_1.weight\", \"unet.decoders.4.1.layer_norm_1.bias\", \"unet.decoders.4.1.layer_norm_2.weight\", \"unet.decoders.4.1.layer_norm_2.bias\", \"unet.decoders.4.1.layer_norm_3.weight\", \"unet.decoders.4.1.layer_norm_3.bias\", \"unet.decoders.5.1.layer_norm_1.weight\", \"unet.decoders.5.1.layer_norm_1.bias\", \"unet.decoders.5.1.layer_norm_2.weight\", \"unet.decoders.5.1.layer_norm_2.bias\", \"unet.decoders.5.1.layer_norm_3.weight\", \"unet.decoders.5.1.layer_norm_3.bias\", \"unet.decoders.6.1.layer_norm_1.weight\", \"unet.decoders.6.1.layer_norm_1.bias\", \"unet.decoders.6.1.layer_norm_2.weight\", \"unet.decoders.6.1.layer_norm_2.bias\", \"unet.decoders.6.1.layer_norm_3.weight\", \"unet.decoders.6.1.layer_norm_3.bias\", \"unet.decoders.7.1.layer_norm_1.weight\", \"unet.decoders.7.1.layer_norm_1.bias\", \"unet.decoders.7.1.layer_norm_2.weight\", \"unet.decoders.7.1.layer_norm_2.bias\", \"unet.decoders.7.1.layer_norm_3.weight\", \"unet.decoders.7.1.layer_norm_3.bias\", \"unet.decoders.8.1.layer_norm_1.weight\", \"unet.decoders.8.1.layer_norm_1.bias\", \"unet.decoders.8.1.layer_norm_2.weight\", \"unet.decoders.8.1.layer_norm_2.bias\", \"unet.decoders.8.1.layer_norm_3.weight\", \"unet.decoders.8.1.layer_norm_3.bias\", \"unet.decoders.9.1.layer_norm_1.weight\", \"unet.decoders.9.1.layer_norm_1.bias\", \"unet.decoders.9.1.layer_norm_2.weight\", \"unet.decoders.9.1.layer_norm_2.bias\", \"unet.decoders.9.1.layer_norm_3.weight\", \"unet.decoders.9.1.layer_norm_3.bias\", \"unet.decoders.10.1.layer_norm_1.weight\", \"unet.decoders.10.1.layer_norm_1.bias\", \"unet.decoders.10.1.layer_norm_2.weight\", \"unet.decoders.10.1.layer_norm_2.bias\", \"unet.decoders.10.1.layer_norm_3.weight\", \"unet.decoders.10.1.layer_norm_3.bias\", \"unet.decoders.11.1.layer_norm_1.weight\", \"unet.decoders.11.1.layer_norm_1.bias\", \"unet.decoders.11.1.layer_norm_2.weight\", \"unet.decoders.11.1.layer_norm_2.bias\", \"unet.decoders.11.1.layer_norm_3.weight\", \"unet.decoders.11.1.layer_norm_3.bias\". \n\tUnexpected key(s) in state_dict: \"unet.encoders.1.1.layernorm_1.weight\", \"unet.encoders.1.1.layernorm_1.bias\", \"unet.encoders.1.1.layernorm_2.weight\", \"unet.encoders.1.1.layernorm_2.bias\", \"unet.encoders.1.1.layernorm_3.weight\", \"unet.encoders.1.1.layernorm_3.bias\", \"unet.encoders.2.1.layernorm_1.weight\", \"unet.encoders.2.1.layernorm_1.bias\", \"unet.encoders.2.1.layernorm_2.weight\", \"unet.encoders.2.1.layernorm_2.bias\", \"unet.encoders.2.1.layernorm_3.weight\", \"unet.encoders.2.1.layernorm_3.bias\", \"unet.encoders.4.1.layernorm_1.weight\", \"unet.encoders.4.1.layernorm_1.bias\", \"unet.encoders.4.1.layernorm_2.weight\", \"unet.encoders.4.1.layernorm_2.bias\", \"unet.encoders.4.1.layernorm_3.weight\", \"unet.encoders.4.1.layernorm_3.bias\", \"unet.encoders.5.1.layernorm_1.weight\", \"unet.encoders.5.1.layernorm_1.bias\", \"unet.encoders.5.1.layernorm_2.weight\", \"unet.encoders.5.1.layernorm_2.bias\", \"unet.encoders.5.1.layernorm_3.weight\", \"unet.encoders.5.1.layernorm_3.bias\", \"unet.encoders.7.1.layernorm_1.weight\", \"unet.encoders.7.1.layernorm_1.bias\", \"unet.encoders.7.1.layernorm_2.weight\", \"unet.encoders.7.1.layernorm_2.bias\", \"unet.encoders.7.1.layernorm_3.weight\", \"unet.encoders.7.1.layernorm_3.bias\", \"unet.encoders.8.1.layernorm_1.weight\", \"unet.encoders.8.1.layernorm_1.bias\", \"unet.encoders.8.1.layernorm_2.weight\", \"unet.encoders.8.1.layernorm_2.bias\", \"unet.encoders.8.1.layernorm_3.weight\", \"unet.encoders.8.1.layernorm_3.bias\", \"unet.bottleneck.1.layernorm_1.weight\", \"unet.bottleneck.1.layernorm_1.bias\", \"unet.bottleneck.1.layernorm_2.weight\", \"unet.bottleneck.1.layernorm_2.bias\", \"unet.bottleneck.1.layernorm_3.weight\", \"unet.bottleneck.1.layernorm_3.bias\", \"unet.decoders.3.1.layernorm_1.weight\", \"unet.decoders.3.1.layernorm_1.bias\", \"unet.decoders.3.1.layernorm_2.weight\", \"unet.decoders.3.1.layernorm_2.bias\", \"unet.decoders.3.1.layernorm_3.weight\", \"unet.decoders.3.1.layernorm_3.bias\", \"unet.decoders.4.1.layernorm_1.weight\", \"unet.decoders.4.1.layernorm_1.bias\", \"unet.decoders.4.1.layernorm_2.weight\", \"unet.decoders.4.1.layernorm_2.bias\", \"unet.decoders.4.1.layernorm_3.weight\", \"unet.decoders.4.1.layernorm_3.bias\", \"unet.decoders.5.1.layernorm_1.weight\", \"unet.decoders.5.1.layernorm_1.bias\", \"unet.decoders.5.1.layernorm_2.weight\", \"unet.decoders.5.1.layernorm_2.bias\", \"unet.decoders.5.1.layernorm_3.weight\", \"unet.decoders.5.1.layernorm_3.bias\", \"unet.decoders.6.1.layernorm_1.weight\", \"unet.decoders.6.1.layernorm_1.bias\", \"unet.decoders.6.1.layernorm_2.weight\", \"unet.decoders.6.1.layernorm_2.bias\", \"unet.decoders.6.1.layernorm_3.weight\", \"unet.decoders.6.1.layernorm_3.bias\", \"unet.decoders.7.1.layernorm_1.weight\", \"unet.decoders.7.1.layernorm_1.bias\", \"unet.decoders.7.1.layernorm_2.weight\", \"unet.decoders.7.1.layernorm_2.bias\", \"unet.decoders.7.1.layernorm_3.weight\", \"unet.decoders.7.1.layernorm_3.bias\", \"unet.decoders.8.1.layernorm_1.weight\", \"unet.decoders.8.1.layernorm_1.bias\", \"unet.decoders.8.1.layernorm_2.weight\", \"unet.decoders.8.1.layernorm_2.bias\", \"unet.decoders.8.1.layernorm_3.weight\", \"unet.decoders.8.1.layernorm_3.bias\", \"unet.decoders.9.1.layernorm_1.weight\", \"unet.decoders.9.1.layernorm_1.bias\", \"unet.decoders.9.1.layernorm_2.weight\", \"unet.decoders.9.1.layernorm_2.bias\", \"unet.decoders.9.1.layernorm_3.weight\", \"unet.decoders.9.1.layernorm_3.bias\", \"unet.decoders.10.1.layernorm_1.weight\", \"unet.decoders.10.1.layernorm_1.bias\", \"unet.decoders.10.1.layernorm_2.weight\", \"unet.decoders.10.1.layernorm_2.bias\", \"unet.decoders.10.1.layernorm_3.weight\", \"unet.decoders.10.1.layernorm_3.bias\", \"unet.decoders.11.1.layernorm_1.weight\", \"unet.decoders.11.1.layernorm_1.bias\", \"unet.decoders.11.1.layernorm_2.weight\", \"unet.decoders.11.1.layernorm_2.bias\", \"unet.decoders.11.1.layernorm_3.weight\", \"unet.decoders.11.1.layernorm_3.bias\". "
     ]
    }
   ],
   "source": [
    "#import tokenize\n",
    "\n",
    "#from kiwisolver import strength\n",
    "import pipeline\n",
    "import model_loader\n",
    "from PIL import Image\n",
    "from transformers import CLIPTokenizer\n",
    "import torch\n",
    "\n",
    "DEVICE = \"cpu\"\n",
    "\n",
    "ALLOW_CUDA = True\n",
    "ALLOW_MPS = True\n",
    "\n",
    "if ALLOW_CUDA and torch.cuda.is_available():\n",
    "    DEVICE = \"cuda\"\n",
    "elif (torch.has_mps or torch.backends.mps.is_available()) and ALLOW_MPS: # type: ignore # TODO: fix if error occurs\n",
    "    DEVICE = \"mps\"\n",
    "print(f\"Using device: {DEVICE}\")\n",
    "\n",
    "tokenizer = CLIPTokenizer(\"../data/vocab.json\", merges_file=\"../data/merges.txt\")\n",
    "model_file = \"../data/v1-5-pruned-emaonly.ckpt\"\n",
    "models = model_loader.preload_models_from_standard_weights(model_file, device=DEVICE)\n",
    "\n",
    "# Text to Image\n",
    "\n",
    "prompt = \"A cat stretches on the floor, highly detailed, ultra sharp, cinematic, 8k resolution.\"\n",
    "uncond_prompt = \"\" # You can use it as a negative prompt\n",
    "do_cfg = True\n",
    "cfg_scale = 7\n",
    "\n",
    "# Image to Image\n",
    "\n",
    "input_image = None\n",
    "image_path = \"../data/dog.jpg\"\n",
    "# input_image = Image.open(image_path)\n",
    "strength = 0.9\n",
    "\n",
    "sampler = \"ddpm\"\n",
    "num_inference_steps = 50\n",
    "seed = 42\n",
    "\n",
    "output_image = pipeline.generate(\n",
    "    prompt=prompt,\n",
    "    uncond_prompt=uncond_prompt,\n",
    "    input_image=input_image,\n",
    "    strength=strength,\n",
    "    do_cfg=do_cfg,\n",
    "    cfg_scale=cfg_scale,\n",
    "    sampler_name=sampler,\n",
    "    n_inference_steps=num_inference_steps,\n",
    "    seed=seed,\n",
    "    models=models,\n",
    "    device=DEVICE,\n",
    "    idle_device=\"cpu\",\n",
    "    tokenizer=tokenizer,\n",
    ")\n",
    "\n",
    "Image.fromarray(output_image)"
   ]
  }
 ],
 "metadata": {
  "kernelspec": {
   "display_name": "torch",
   "language": "python",
   "name": "python3"
  },
  "language_info": {
   "codemirror_mode": {
    "name": "ipython",
    "version": 3
   },
   "file_extension": ".py",
   "mimetype": "text/x-python",
   "name": "python",
   "nbconvert_exporter": "python",
   "pygments_lexer": "ipython3",
   "version": "3.11.5"
  }
 },
 "nbformat": 4,
 "nbformat_minor": 2
}
